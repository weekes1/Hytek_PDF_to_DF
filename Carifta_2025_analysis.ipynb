{
 "cells": [
  {
   "cell_type": "code",
   "execution_count": 1,
   "metadata": {},
   "outputs": [],
   "source": [
    "import hytek_exctractor\n",
    "\n",
    "result_df = hytek_exctractor.extract_hytek_results('result_pdfs','carifta_2025_results.csv')"
   ]
  },
  {
   "cell_type": "code",
   "execution_count": 2,
   "metadata": {},
   "outputs": [
    {
     "name": "stdout",
     "output_type": "stream",
     "text": [
      "     Name Age                     Team Finals Time Seed Time  \\\n",
      "0  Reagan  13  Virgin Islands Swimming     9:38.89   9:22.27   \n",
      "1  Marena  13        Trinidad & Tobago     9:46.17   9:49.52   \n",
      "2    Zara  13        Trinidad & Tobago     9:54.23   9:53.57   \n",
      "3  Dndn F  14                  Bahamas    10:03.47  10:02.06   \n",
      "4  Lailah  13       Barbados Swim Team    10:46.29  10:14.26   \n",
      "\n",
      "                                EVENT EVENT_NUM GENDER AGE_GROUP DISTANCE  \\\n",
      "0  Girls 13-14 800 LC Meter Freestyle         1  Girls     13-14      800   \n",
      "1  Girls 13-14 800 LC Meter Freestyle         1  Girls     13-14      800   \n",
      "2  Girls 13-14 800 LC Meter Freestyle         1  Girls     13-14      800   \n",
      "3  Girls 13-14 800 LC Meter Freestyle         1  Girls     13-14      800   \n",
      "4  Girls 13-14 800 LC Meter Freestyle         1  Girls     13-14      800   \n",
      "\n",
      "      STROKE DISTANCEXSTROKE AGE_GROUPXGENDER  \\\n",
      "0  Freestyle    800Freestyle       13-14Girls   \n",
      "1  Freestyle    800Freestyle       13-14Girls   \n",
      "2  Freestyle    800Freestyle       13-14Girls   \n",
      "3  Freestyle    800Freestyle       13-14Girls   \n",
      "4  Freestyle    800Freestyle       13-14Girls   \n",
      "\n",
      "                                                MEET  \n",
      "0  XXXVIII Carifta 2025 Aquatic Championships - 1...  \n",
      "1  XXXVIII Carifta 2025 Aquatic Championships - 1...  \n",
      "2  XXXVIII Carifta 2025 Aquatic Championships - 1...  \n",
      "3  XXXVIII Carifta 2025 Aquatic Championships - 1...  \n",
      "4  XXXVIII Carifta 2025 Aquatic Championships - 1...  \n"
     ]
    }
   ],
   "source": [
    "print(result_df.head())"
   ]
  },
  {
   "cell_type": "code",
   "execution_count": 4,
   "metadata": {},
   "outputs": [],
   "source": [
    "import pandas as pd\n",
    "import matplotlib as plt"
   ]
  },
  {
   "cell_type": "code",
   "execution_count": 3,
   "metadata": {},
   "outputs": [
    {
     "name": "stdout",
     "output_type": "stream",
     "text": [
      "        Name Age                Team Finals Time Seed Time  \\\n",
      "4     Lailah  13  Barbados Swim Team    10:46.29  10:14.26   \n",
      "8      Naomi  14  Barbados Swim Team    10:16.41  10:29.45   \n",
      "11     Heidi  15  Barbados Swim Team     9:11.81   9:18.93   \n",
      "18  Isabella  15  Barbados Swim Team     9:57.72   9:59.71   \n",
      "31    Mihael  13  Barbados Swim Team    17:57.49  18:05.88   \n",
      "\n",
      "                                  EVENT EVENT_NUM GENDER AGE_GROUP DISTANCE  \\\n",
      "4    Girls 13-14 800 LC Meter Freestyle         1  Girls     13-14      800   \n",
      "8    Girls 13-14 800 LC Meter Freestyle         1  Girls     13-14      800   \n",
      "11   Girls 15-17 800 LC Meter Freestyle         1  Girls     15-17      800   \n",
      "18  Girls 15-17 800 LC Meter Freestyle)         1  Girls     15-17      800   \n",
      "31  Boys 13-14 1500 LC Meter Freestyle)         2   Boys     13-14     1500   \n",
      "\n",
      "        STROKE DISTANCEXSTROKE AGE_GROUPXGENDER  \\\n",
      "4    Freestyle    800Freestyle       13-14Girls   \n",
      "8    Freestyle    800Freestyle       13-14Girls   \n",
      "11   Freestyle    800Freestyle       15-17Girls   \n",
      "18  Freestyle)   800Freestyle)       15-17Girls   \n",
      "31  Freestyle)  1500Freestyle)        13-14Boys   \n",
      "\n",
      "                                                 MEET  \n",
      "4   XXXVIII Carifta 2025 Aquatic Championships - 1...  \n",
      "8   XXXVIII Carifta 2025 Aquatic Championships - 1...  \n",
      "11  XXXVIII Carifta 2025 Aquatic Championships - 1...  \n",
      "18  XXXVIII Carifta 2025 Aquatic Championships - 1...  \n",
      "31  XXXVIII Carifta 2025 Aquatic Championships - 1...  \n"
     ]
    }
   ],
   "source": [
    "bim_results = result_df[result_df['Team']== 'Barbados Swim Team']\n",
    "print(bim_results.head())\n",
    "bim_results.to_csv('')"
   ]
  }
 ],
 "metadata": {
  "kernelspec": {
   "display_name": "myenv",
   "language": "python",
   "name": "python3"
  },
  "language_info": {
   "codemirror_mode": {
    "name": "ipython",
    "version": 3
   },
   "file_extension": ".py",
   "mimetype": "text/x-python",
   "name": "python",
   "nbconvert_exporter": "python",
   "pygments_lexer": "ipython3",
   "version": "3.12.3"
  }
 },
 "nbformat": 4,
 "nbformat_minor": 2
}
